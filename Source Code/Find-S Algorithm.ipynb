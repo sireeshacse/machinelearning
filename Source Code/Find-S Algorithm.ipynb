{
 "cells": [
  {
   "cell_type": "code",
   "execution_count": 94,
   "metadata": {},
   "outputs": [
    {
     "name": "stdout",
     "output_type": "stream",
     "text": [
      "Welcome to EID 403: Machine Learning Course\n"
     ]
    }
   ],
   "source": [
    "print(\"Welcome to EID 403: Machine Learning Course\")"
   ]
  },
  {
   "cell_type": "code",
   "execution_count": 95,
   "metadata": {},
   "outputs": [],
   "source": [
    "import pandas as pd\n",
    "import numpy as np\n"
   ]
  },
  {
   "cell_type": "code",
   "execution_count": 96,
   "metadata": {},
   "outputs": [],
   "source": [
    "data=pd.read_csv(\"tennis.csv\")\n",
    "#data=pd.read_csv(\"find-s_dataset.csv\")"
   ]
  },
  {
   "cell_type": "code",
   "execution_count": 97,
   "metadata": {},
   "outputs": [
    {
     "data": {
      "text/html": [
       "<div>\n",
       "<style scoped>\n",
       "    .dataframe tbody tr th:only-of-type {\n",
       "        vertical-align: middle;\n",
       "    }\n",
       "\n",
       "    .dataframe tbody tr th {\n",
       "        vertical-align: top;\n",
       "    }\n",
       "\n",
       "    .dataframe thead th {\n",
       "        text-align: right;\n",
       "    }\n",
       "</style>\n",
       "<table border=\"1\" class=\"dataframe\">\n",
       "  <thead>\n",
       "    <tr style=\"text-align: right;\">\n",
       "      <th></th>\n",
       "      <th>outlook</th>\n",
       "      <th>temp</th>\n",
       "      <th>humidity</th>\n",
       "      <th>windy</th>\n",
       "      <th>play</th>\n",
       "    </tr>\n",
       "  </thead>\n",
       "  <tbody>\n",
       "    <tr>\n",
       "      <th>0</th>\n",
       "      <td>sunny</td>\n",
       "      <td>hot</td>\n",
       "      <td>high</td>\n",
       "      <td>False</td>\n",
       "      <td>no</td>\n",
       "    </tr>\n",
       "    <tr>\n",
       "      <th>1</th>\n",
       "      <td>sunny</td>\n",
       "      <td>hot</td>\n",
       "      <td>high</td>\n",
       "      <td>True</td>\n",
       "      <td>no</td>\n",
       "    </tr>\n",
       "    <tr>\n",
       "      <th>2</th>\n",
       "      <td>overcast</td>\n",
       "      <td>hot</td>\n",
       "      <td>high</td>\n",
       "      <td>False</td>\n",
       "      <td>yes</td>\n",
       "    </tr>\n",
       "    <tr>\n",
       "      <th>3</th>\n",
       "      <td>rainy</td>\n",
       "      <td>mild</td>\n",
       "      <td>high</td>\n",
       "      <td>False</td>\n",
       "      <td>yes</td>\n",
       "    </tr>\n",
       "    <tr>\n",
       "      <th>4</th>\n",
       "      <td>rainy</td>\n",
       "      <td>cool</td>\n",
       "      <td>normal</td>\n",
       "      <td>False</td>\n",
       "      <td>yes</td>\n",
       "    </tr>\n",
       "    <tr>\n",
       "      <th>5</th>\n",
       "      <td>rainy</td>\n",
       "      <td>cool</td>\n",
       "      <td>normal</td>\n",
       "      <td>True</td>\n",
       "      <td>no</td>\n",
       "    </tr>\n",
       "    <tr>\n",
       "      <th>6</th>\n",
       "      <td>overcast</td>\n",
       "      <td>cool</td>\n",
       "      <td>normal</td>\n",
       "      <td>True</td>\n",
       "      <td>yes</td>\n",
       "    </tr>\n",
       "    <tr>\n",
       "      <th>7</th>\n",
       "      <td>sunny</td>\n",
       "      <td>mild</td>\n",
       "      <td>high</td>\n",
       "      <td>False</td>\n",
       "      <td>no</td>\n",
       "    </tr>\n",
       "    <tr>\n",
       "      <th>8</th>\n",
       "      <td>sunny</td>\n",
       "      <td>cool</td>\n",
       "      <td>normal</td>\n",
       "      <td>False</td>\n",
       "      <td>yes</td>\n",
       "    </tr>\n",
       "    <tr>\n",
       "      <th>9</th>\n",
       "      <td>rainy</td>\n",
       "      <td>mild</td>\n",
       "      <td>normal</td>\n",
       "      <td>False</td>\n",
       "      <td>yes</td>\n",
       "    </tr>\n",
       "    <tr>\n",
       "      <th>10</th>\n",
       "      <td>sunny</td>\n",
       "      <td>mild</td>\n",
       "      <td>normal</td>\n",
       "      <td>True</td>\n",
       "      <td>yes</td>\n",
       "    </tr>\n",
       "    <tr>\n",
       "      <th>11</th>\n",
       "      <td>overcast</td>\n",
       "      <td>mild</td>\n",
       "      <td>high</td>\n",
       "      <td>True</td>\n",
       "      <td>yes</td>\n",
       "    </tr>\n",
       "    <tr>\n",
       "      <th>12</th>\n",
       "      <td>overcast</td>\n",
       "      <td>hot</td>\n",
       "      <td>normal</td>\n",
       "      <td>False</td>\n",
       "      <td>yes</td>\n",
       "    </tr>\n",
       "    <tr>\n",
       "      <th>13</th>\n",
       "      <td>rainy</td>\n",
       "      <td>mild</td>\n",
       "      <td>high</td>\n",
       "      <td>True</td>\n",
       "      <td>no</td>\n",
       "    </tr>\n",
       "  </tbody>\n",
       "</table>\n",
       "</div>"
      ],
      "text/plain": [
       "     outlook  temp humidity  windy play\n",
       "0      sunny   hot     high  False   no\n",
       "1      sunny   hot     high   True   no\n",
       "2   overcast   hot     high  False  yes\n",
       "3      rainy  mild     high  False  yes\n",
       "4      rainy  cool   normal  False  yes\n",
       "5      rainy  cool   normal   True   no\n",
       "6   overcast  cool   normal   True  yes\n",
       "7      sunny  mild     high  False   no\n",
       "8      sunny  cool   normal  False  yes\n",
       "9      rainy  mild   normal  False  yes\n",
       "10     sunny  mild   normal   True  yes\n",
       "11  overcast  mild     high   True  yes\n",
       "12  overcast   hot   normal  False  yes\n",
       "13     rainy  mild     high   True   no"
      ]
     },
     "execution_count": 97,
     "metadata": {},
     "output_type": "execute_result"
    }
   ],
   "source": [
    "data"
   ]
  },
  {
   "cell_type": "code",
   "execution_count": 98,
   "metadata": {},
   "outputs": [
    {
     "name": "stdout",
     "output_type": "stream",
     "text": [
      "(14, 5)\n"
     ]
    }
   ],
   "source": [
    "print(data.shape)"
   ]
  },
  {
   "cell_type": "code",
   "execution_count": 99,
   "metadata": {},
   "outputs": [
    {
     "name": "stdout",
     "output_type": "stream",
     "text": [
      "14\n"
     ]
    }
   ],
   "source": [
    "print(data.shape[0])"
   ]
  },
  {
   "cell_type": "code",
   "execution_count": 100,
   "metadata": {},
   "outputs": [
    {
     "name": "stdout",
     "output_type": "stream",
     "text": [
      "5\n"
     ]
    }
   ],
   "source": [
    "print(data.shape[1])"
   ]
  },
  {
   "cell_type": "code",
   "execution_count": 101,
   "metadata": {},
   "outputs": [
    {
     "name": "stdout",
     "output_type": "stream",
     "text": [
      "5\n"
     ]
    }
   ],
   "source": [
    "num_attributes=len(data.columns)\n",
    "print(num_attributes)"
   ]
  },
  {
   "cell_type": "code",
   "execution_count": 102,
   "metadata": {},
   "outputs": [
    {
     "name": "stdout",
     "output_type": "stream",
     "text": [
      "14\n"
     ]
    }
   ],
   "source": [
    "num_rows=len(data)\n",
    "print(num_rows)"
   ]
  },
  {
   "cell_type": "code",
   "execution_count": 103,
   "metadata": {},
   "outputs": [
    {
     "name": "stdout",
     "output_type": "stream",
     "text": [
      "Most Generic Hypothesis:  ['?', '?', '?', '?', '?'] \n",
      "Most Specific Hypothesis: ['0', '0', '0', '0', '0']\n"
     ]
    }
   ],
   "source": [
    "generic_hypothesis=[\"?\"]*num_attributes\n",
    "specific_hypothesis=[\"0\"]*num_attributes\n",
    "\n",
    "print(\"Most Generic Hypothesis: \",generic_hypothesis,\"\\nMost Specific Hypothesis:\",specific_hypothesis)"
   ]
  },
  {
   "cell_type": "code",
   "execution_count": 104,
   "metadata": {},
   "outputs": [
    {
     "name": "stdout",
     "output_type": "stream",
     "text": [
      "Find-S: Finding maximally specific hypothesis\n"
     ]
    }
   ],
   "source": [
    "hypothesis=specific_hypothesis\n",
    "print(\"Find-S: Finding maximally specific hypothesis\")"
   ]
  },
  {
   "cell_type": "code",
   "execution_count": 105,
   "metadata": {},
   "outputs": [
    {
     "name": "stdout",
     "output_type": "stream",
     "text": [
      "outlook     sunny\n",
      "temp          hot\n",
      "humidity     high\n",
      "windy       False\n",
      "Name: 0, dtype: object\n"
     ]
    }
   ],
   "source": [
    "#####\n",
    "hypothesis=data.iloc[0,:-1]\n",
    "print(hypothesis)"
   ]
  },
  {
   "cell_type": "code",
   "execution_count": 106,
   "metadata": {},
   "outputs": [
    {
     "name": "stdout",
     "output_type": "stream",
     "text": [
      "\n",
      "row  1\n",
      "\n",
      " outlook     sunny\n",
      "temp          hot\n",
      "humidity     high\n",
      "windy       False\n",
      "Name: 0, dtype: object\n",
      "\n",
      "row  2\n",
      "\n",
      " outlook         ?\n",
      "temp          hot\n",
      "humidity     high\n",
      "windy       False\n",
      "Name: 0, dtype: object\n",
      "\n",
      "row  3\n",
      "\n",
      " outlook         ?\n",
      "temp            ?\n",
      "humidity     high\n",
      "windy       False\n",
      "Name: 0, dtype: object\n",
      "\n",
      "row  4\n",
      "\n",
      " outlook         ?\n",
      "temp            ?\n",
      "humidity        ?\n",
      "windy       False\n",
      "Name: 0, dtype: object\n",
      "\n",
      "row  5\n",
      "\n",
      " outlook         ?\n",
      "temp            ?\n",
      "humidity        ?\n",
      "windy       False\n",
      "Name: 0, dtype: object\n",
      "\n",
      "row  6\n",
      "\n",
      " outlook     ?\n",
      "temp        ?\n",
      "humidity    ?\n",
      "windy       ?\n",
      "Name: 0, dtype: object\n",
      "\n",
      "row  7\n",
      "\n",
      " outlook     ?\n",
      "temp        ?\n",
      "humidity    ?\n",
      "windy       ?\n",
      "Name: 0, dtype: object\n",
      "\n",
      "row  8\n",
      "\n",
      " outlook     ?\n",
      "temp        ?\n",
      "humidity    ?\n",
      "windy       ?\n",
      "Name: 0, dtype: object\n",
      "\n",
      "row  9\n",
      "\n",
      " outlook     ?\n",
      "temp        ?\n",
      "humidity    ?\n",
      "windy       ?\n",
      "Name: 0, dtype: object\n",
      "\n",
      "row  10\n",
      "\n",
      " outlook     ?\n",
      "temp        ?\n",
      "humidity    ?\n",
      "windy       ?\n",
      "Name: 0, dtype: object\n",
      "\n",
      "row  11\n",
      "\n",
      " outlook     ?\n",
      "temp        ?\n",
      "humidity    ?\n",
      "windy       ?\n",
      "Name: 0, dtype: object\n",
      "\n",
      "row  12\n",
      "\n",
      " outlook     ?\n",
      "temp        ?\n",
      "humidity    ?\n",
      "windy       ?\n",
      "Name: 0, dtype: object\n",
      "\n",
      "row  13\n",
      "\n",
      " outlook     ?\n",
      "temp        ?\n",
      "humidity    ?\n",
      "windy       ?\n",
      "Name: 0, dtype: object\n"
     ]
    }
   ],
   "source": [
    "for i in range(1,num_rows):\n",
    "    print(\"\\nrow \",i)\n",
    "    if(data['play'][i]==\"yes\"):\n",
    "        for j in range(num_attributes-1):\n",
    "            if data.iloc[i,j]!=hypothesis[j]:\n",
    "                hypothesis[j]='?'\n",
    "    print(\"\\n\",hypothesis)\n",
    "            \n",
    "        \n",
    "        \n"
   ]
  },
  {
   "cell_type": "code",
   "execution_count": 107,
   "metadata": {},
   "outputs": [
    {
     "name": "stdout",
     "output_type": "stream",
     "text": [
      "\n",
      "\n",
      "sunny ?\n",
      "hot ?\n",
      "high ?\n",
      "True ?\n",
      "\n",
      "\n",
      "overcast ?\n",
      "hot ?\n",
      "high ?\n",
      "False ?\n",
      "\n",
      "\n",
      "rainy ?\n",
      "mild ?\n",
      "high ?\n",
      "False ?\n",
      "\n",
      "\n",
      "rainy ?\n",
      "cool ?\n",
      "normal ?\n",
      "False ?\n"
     ]
    }
   ],
   "source": [
    "\n",
    "for i in range(1,num_attributes):\n",
    "    print(\"\\n\")\n",
    "    for j in range(num_attributes-1):\n",
    "        print(data.iloc[i,j],hypothesis[j])"
   ]
  },
  {
   "cell_type": "code",
   "execution_count": 115,
   "metadata": {},
   "outputs": [
    {
     "name": "stdout",
     "output_type": "stream",
     "text": [
      "Concept generalized using Find-S algorithm for the dataset:\n",
      " outlook     ?\n",
      "temp        ?\n",
      "humidity    ?\n",
      "windy       ?\n",
      "Name: 0, dtype: object\n"
     ]
    }
   ],
   "source": [
    "print(\"Concept generalized using Find-S algorithm for the dataset:\\n\",hypothesis)"
   ]
  },
  {
   "cell_type": "code",
   "execution_count": 116,
   "metadata": {},
   "outputs": [
    {
     "name": "stdout",
     "output_type": "stream",
     "text": [
      "<class 'pandas.core.series.Series'>\n"
     ]
    }
   ],
   "source": [
    "print(type(hypothesis))"
   ]
  },
  {
   "cell_type": "code",
   "execution_count": 117,
   "metadata": {},
   "outputs": [
    {
     "name": "stdout",
     "output_type": "stream",
     "text": [
      "['?', '?', '?', '?']\n"
     ]
    }
   ],
   "source": [
    "print(hypothesis.tolist())"
   ]
  },
  {
   "cell_type": "code",
   "execution_count": null,
   "metadata": {},
   "outputs": [],
   "source": []
  }
 ],
 "metadata": {
  "kernelspec": {
   "display_name": "Python 3",
   "language": "python",
   "name": "python3"
  },
  "language_info": {
   "codemirror_mode": {
    "name": "ipython",
    "version": 3
   },
   "file_extension": ".py",
   "mimetype": "text/x-python",
   "name": "python",
   "nbconvert_exporter": "python",
   "pygments_lexer": "ipython3",
   "version": "3.7.6"
  }
 },
 "nbformat": 4,
 "nbformat_minor": 4
}
